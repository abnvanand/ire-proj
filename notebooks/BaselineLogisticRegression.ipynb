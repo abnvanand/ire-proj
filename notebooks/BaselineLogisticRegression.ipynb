{
  "nbformat": 4,
  "nbformat_minor": 0,
  "metadata": {
    "kernelspec": {
      "display_name": "Python 3",
      "language": "python",
      "name": "python3"
    },
    "language_info": {
      "codemirror_mode": {
        "name": "ipython",
        "version": 3
      },
      "file_extension": ".py",
      "mimetype": "text/x-python",
      "name": "python",
      "nbconvert_exporter": "python",
      "pygments_lexer": "ipython3",
      "version": "3.7.4"
    },
    "colab": {
      "name": "BaselineLogisticRegression.ipynb",
      "provenance": [],
      "collapsed_sections": [],
      "machine_shape": "hm"
    }
  },
  "cells": [
    {
      "cell_type": "code",
      "metadata": {
        "id": "mVbx2i3EFRYn",
        "colab_type": "code",
        "outputId": "fa78105d-4f2e-480d-f29e-533fd6f65e44",
        "colab": {
          "base_uri": "https://localhost:8080/",
          "height": 124
        }
      },
      "source": [
        "from google.colab import drive\n",
        "drive.mount(\"/content/drive\", force_remount=True)"
      ],
      "execution_count": 1,
      "outputs": [
        {
          "output_type": "stream",
          "text": [
            "Go to this URL in a browser: https://accounts.google.com/o/oauth2/auth?client_id=947318989803-6bn6qk8qdgf4n4g3pfee6491hc0brc4i.apps.googleusercontent.com&redirect_uri=urn%3Aietf%3Awg%3Aoauth%3A2.0%3Aoob&scope=email%20https%3A%2F%2Fwww.googleapis.com%2Fauth%2Fdocs.test%20https%3A%2F%2Fwww.googleapis.com%2Fauth%2Fdrive%20https%3A%2F%2Fwww.googleapis.com%2Fauth%2Fdrive.photos.readonly%20https%3A%2F%2Fwww.googleapis.com%2Fauth%2Fpeopleapi.readonly&response_type=code\n",
            "\n",
            "Enter your authorization code:\n",
            "··········\n",
            "Mounted at /content/drive\n"
          ],
          "name": "stdout"
        }
      ]
    },
    {
      "cell_type": "code",
      "metadata": {
        "id": "WZFVCYjrFRY0",
        "colab_type": "code",
        "outputId": "fa5dfb15-9e21-4db9-ec1e-e74321770791",
        "colab": {
          "base_uri": "https://localhost:8080/",
          "height": 89
        }
      },
      "source": [
        "DATASET_PATH = \"/content/drive/My Drive/ire-proj/processedData\"\n",
        "!ls \"$DATASET_PATH\""
      ],
      "execution_count": 2,
      "outputs": [
        {
          "output_type": "stream",
          "text": [
            "articles-training-byarticle.csv        articles-validation-bypublisher.csv\n",
            "articles-training-bypublisher.csv      glove.6B.300d.txt\n",
            "articles-training-bypublisher-old.csv\n"
          ],
          "name": "stdout"
        }
      ]
    },
    {
      "cell_type": "code",
      "metadata": {
        "id": "ZjFdV9RyFRYZ",
        "colab_type": "code",
        "colab": {}
      },
      "source": [
        "import pandas as pd"
      ],
      "execution_count": 0,
      "outputs": []
    },
    {
      "cell_type": "code",
      "metadata": {
        "id": "FDLPrOEqFRY8",
        "colab_type": "code",
        "colab": {}
      },
      "source": [
        "df = pd.read_csv(filepath_or_buffer=DATASET_PATH + '/articles-training-bypublisher.csv',\n",
        "                 names=['article_id', 'title', 'articleContent', 'bias', 'hyperpartisan'])"
      ],
      "execution_count": 0,
      "outputs": []
    },
    {
      "cell_type": "code",
      "metadata": {
        "id": "L8-yYkDeFRZH",
        "colab_type": "code",
        "outputId": "a80e97d5-359a-4e54-be62-3146ae3355c2",
        "colab": {
          "base_uri": "https://localhost:8080/",
          "height": 484
        }
      },
      "source": [
        "df.head()"
      ],
      "execution_count": 5,
      "outputs": [
        {
          "output_type": "execute_result",
          "data": {
            "text/html": [
              "<div>\n",
              "<style scoped>\n",
              "    .dataframe tbody tr th:only-of-type {\n",
              "        vertical-align: middle;\n",
              "    }\n",
              "\n",
              "    .dataframe tbody tr th {\n",
              "        vertical-align: top;\n",
              "    }\n",
              "\n",
              "    .dataframe thead th {\n",
              "        text-align: right;\n",
              "    }\n",
              "</style>\n",
              "<table border=\"1\" class=\"dataframe\">\n",
              "  <thead>\n",
              "    <tr style=\"text-align: right;\">\n",
              "      <th></th>\n",
              "      <th>article_id</th>\n",
              "      <th>title</th>\n",
              "      <th>articleContent</th>\n",
              "      <th>bias</th>\n",
              "      <th>hyperpartisan</th>\n",
              "    </tr>\n",
              "  </thead>\n",
              "  <tbody>\n",
              "    <tr>\n",
              "      <th>0</th>\n",
              "      <td>1</td>\n",
              "      <td>After DeVos Announced Plans To Reexamine Title...</td>\n",
              "      <td>When explaining her decision to reevaluate Tit...</td>\n",
              "      <td>right</td>\n",
              "      <td>True</td>\n",
              "    </tr>\n",
              "    <tr>\n",
              "      <th>1</th>\n",
              "      <td>2</td>\n",
              "      <td>University To Award Trayvon Martin With Posthu...</td>\n",
              "      <td>A Florida university will honor Trayvon Martin...</td>\n",
              "      <td>right</td>\n",
              "      <td>True</td>\n",
              "    </tr>\n",
              "    <tr>\n",
              "      <th>2</th>\n",
              "      <td>8</td>\n",
              "      <td>Texas State University suspends Greek life aft...</td>\n",
              "      <td>Nov. 15 (UPI) — Texas State University has sus...</td>\n",
              "      <td>right-center</td>\n",
              "      <td>False</td>\n",
              "    </tr>\n",
              "    <tr>\n",
              "      <th>3</th>\n",
              "      <td>12</td>\n",
              "      <td>Jewish Organization's Huge Day Of Unity On Tue...</td>\n",
              "      <td>Against the backdrop of an increasingly polari...</td>\n",
              "      <td>right</td>\n",
              "      <td>True</td>\n",
              "    </tr>\n",
              "    <tr>\n",
              "      <th>4</th>\n",
              "      <td>15</td>\n",
              "      <td>BREAKING: Trump Reaches Agreement To Keep 1,00...</td>\n",
              "      <td>President-elect Donald Trump has reached an ag...</td>\n",
              "      <td>right</td>\n",
              "      <td>True</td>\n",
              "    </tr>\n",
              "  </tbody>\n",
              "</table>\n",
              "</div>"
            ],
            "text/plain": [
              "   article_id  ... hyperpartisan\n",
              "0           1  ...          True\n",
              "1           2  ...          True\n",
              "2           8  ...         False\n",
              "3          12  ...          True\n",
              "4          15  ...          True\n",
              "\n",
              "[5 rows x 5 columns]"
            ]
          },
          "metadata": {
            "tags": []
          },
          "execution_count": 5
        }
      ]
    },
    {
      "cell_type": "code",
      "metadata": {
        "id": "fk7-FyovFRZV",
        "colab_type": "code",
        "outputId": "36a5dda4-e05a-4a07-d1ac-788b2f335d47",
        "colab": {
          "base_uri": "https://localhost:8080/",
          "height": 34
        }
      },
      "source": [
        "len(df[df.hyperpartisan==True]), len(df[df.hyperpartisan==False])"
      ],
      "execution_count": 6,
      "outputs": [
        {
          "output_type": "execute_result",
          "data": {
            "text/plain": [
              "(300000, 300000)"
            ]
          },
          "metadata": {
            "tags": []
          },
          "execution_count": 6
        }
      ]
    },
    {
      "cell_type": "code",
      "metadata": {
        "id": "jfAXWHbzFRZc",
        "colab_type": "code",
        "colab": {}
      },
      "source": [
        "from sklearn.model_selection import train_test_split\n",
        "from sklearn.feature_extraction.text import TfidfVectorizer\n",
        "from sklearn.feature_extraction.stop_words import ENGLISH_STOP_WORDS"
      ],
      "execution_count": 0,
      "outputs": []
    },
    {
      "cell_type": "code",
      "metadata": {
        "id": "yxpnOzOkFRZk",
        "colab_type": "code",
        "colab": {}
      },
      "source": [
        "X = df.articleContent.values\n",
        "y = df.hyperpartisan.values\n",
        "\n",
        "tfidfVectorizer = TfidfVectorizer(stop_words=ENGLISH_STOP_WORDS, ngram_range=(1,2), max_df=0.85, min_df=0.05)\n",
        "tfidfVectorizer.fit(X)\n",
        "\n",
        "X_tfidf = tfidfVectorizer.transform(X)\n",
        "\n",
        "X_tfidf_train, X_tfidf_validate, y_train, y_validate = train_test_split(X_tfidf, y, test_size = 0.2, random_state=1234)"
      ],
      "execution_count": 0,
      "outputs": []
    },
    {
      "cell_type": "markdown",
      "metadata": {
        "id": "qKl_68kkU9lS",
        "colab_type": "text"
      },
      "source": [
        "# Logistic Regression\n"
      ]
    },
    {
      "cell_type": "code",
      "metadata": {
        "id": "29AiBeT4FRZt",
        "colab_type": "code",
        "colab": {
          "base_uri": "https://localhost:8080/",
          "height": 106
        },
        "outputId": "a5c820e7-59d7-4bab-e071-15282822331e"
      },
      "source": [
        "from sklearn.linear_model import LogisticRegression\n",
        "\n",
        "lrmodel = LogisticRegression()\n",
        "\n",
        "lrmodel.fit(X_tfidf_train, y_train)\n",
        "\n",
        "y_pred = lrmodel.predict(X_tfidf_validate)\n",
        "\n",
        "from sklearn.metrics import f1_score, accuracy_score\n",
        "\n",
        "print(\"f1 score: \", f1_score(y_validate, y_pred, average=None) *100)\n",
        "print('accuracy: ', accuracy_score(y_validate, y_pred) *100)"
      ],
      "execution_count": 9,
      "outputs": [
        {
          "output_type": "stream",
          "text": [
            "/usr/local/lib/python3.6/dist-packages/sklearn/linear_model/logistic.py:432: FutureWarning: Default solver will be changed to 'lbfgs' in 0.22. Specify a solver to silence this warning.\n",
            "  FutureWarning)\n"
          ],
          "name": "stderr"
        },
        {
          "output_type": "stream",
          "text": [
            "f1 score:  [86.71795519 86.95163755]\n",
            "accuracy:  86.83583333333334\n"
          ],
          "name": "stdout"
        }
      ]
    },
    {
      "cell_type": "code",
      "metadata": {
        "id": "hwoIXA6_FRZ2",
        "colab_type": "code",
        "colab": {
          "base_uri": "https://localhost:8080/",
          "height": 300
        },
        "outputId": "87b3712b-ddb4-4151-b8a5-fb4c8756ba01"
      },
      "source": [
        "import seaborn as sns\n",
        "import matplotlib.pyplot as plt\n",
        "%matplotlib inline\n",
        "from sklearn.metrics import confusion_matrix\n",
        "\n",
        "ax= plt.subplot()\n",
        "cm = confusion_matrix(y_true=y_validate, y_pred=y_pred, labels=[False, True])\n",
        "sns.heatmap(cm, annot=True, ax=ax)\n",
        "ax.set_xlabel('Predicted')\n",
        "ax.set_ylabel('True') "
      ],
      "execution_count": 10,
      "outputs": [
        {
          "output_type": "execute_result",
          "data": {
            "text/plain": [
              "Text(33.0, 0.5, 'True')"
            ]
          },
          "metadata": {
            "tags": []
          },
          "execution_count": 10
        },
        {
          "output_type": "display_data",
          "data": {
            "image/png": "[encoded data removed]",
            "text/plain": [
              "<Figure size 432x288 with 2 Axes>"
            ]
          },
          "metadata": {
            "tags": []
          }
        }
      ]
    },
    {
      "cell_type": "markdown",
      "metadata": {
        "id": "keP9Enqoo3ao",
        "colab_type": "text"
      },
      "source": [
        "# Load validation data as test set"
      ]
    },
    {
      "cell_type": "code",
      "metadata": {
        "id": "xicEWQrWnMZ_",
        "colab_type": "code",
        "colab": {
          "base_uri": "https://localhost:8080/",
          "height": 34
        },
        "outputId": "41e43073-6a22-4a37-cadb-fa852766d7d8"
      },
      "source": [
        "df_test = pd.read_csv(filepath_or_buffer=DATASET_PATH + '/articles-validation-bypublisher.csv',\n",
        "                 names=['article_id', 'title', 'articleContent', 'bias', 'hyperpartisan'])\n",
        "df_test.shape"
      ],
      "execution_count": 11,
      "outputs": [
        {
          "output_type": "execute_result",
          "data": {
            "text/plain": [
              "(150000, 5)"
            ]
          },
          "metadata": {
            "tags": []
          },
          "execution_count": 11
        }
      ]
    },
    {
      "cell_type": "code",
      "metadata": {
        "id": "dvTF84i68f-2",
        "colab_type": "code",
        "colab": {
          "base_uri": "https://localhost:8080/",
          "height": 34
        },
        "outputId": "35ae6cee-3adc-4721-d7b9-b1cfbad646a1"
      },
      "source": [
        "len(df_test[df_test.hyperpartisan==True]), len(df_test[df_test.hyperpartisan==False])"
      ],
      "execution_count": 15,
      "outputs": [
        {
          "output_type": "execute_result",
          "data": {
            "text/plain": [
              "(75000, 75000)"
            ]
          },
          "metadata": {
            "tags": []
          },
          "execution_count": 15
        }
      ]
    },
    {
      "cell_type": "code",
      "metadata": {
        "id": "8YOfC4Tco-0b",
        "colab_type": "code",
        "colab": {}
      },
      "source": [
        "X_test = df_test.articleContent.values\n",
        "y_test = df_test.hyperpartisan.values\n",
        "\n",
        "X_test_tfidf = tfidfVectorizer.transform(X_test)\n",
        "y_test_pred = lrmodel.predict(X_test_tfidf)"
      ],
      "execution_count": 0,
      "outputs": []
    },
    {
      "cell_type": "code",
      "metadata": {
        "id": "eDpvmQs1tqQf",
        "colab_type": "code",
        "colab": {
          "base_uri": "https://localhost:8080/",
          "height": 52
        },
        "outputId": "d8875622-ed09-45ad-de61-e3622a29b475"
      },
      "source": [
        "print(\"test f1 score: \", f1_score(y_test, y_test_pred, average=None) *100)\n",
        "print('test accuracy: ', accuracy_score(y_test, y_test_pred) *100)"
      ],
      "execution_count": 14,
      "outputs": [
        {
          "output_type": "stream",
          "text": [
            "test f1 score:  [43.67963467 65.5445119 ]\n",
            "test accuracy:  57.245333333333335\n"
          ],
          "name": "stdout"
        }
      ]
    },
    {
      "cell_type": "code",
      "metadata": {
        "id": "WH7iGrDk8cAG",
        "colab_type": "code",
        "colab": {}
      },
      "source": [
        "# TODO: perform grid search cv"
      ],
      "execution_count": 0,
      "outputs": []
    },
    {
      "cell_type": "code",
      "metadata": {
        "id": "M-LKW05n9YGU",
        "colab_type": "code",
        "colab": {}
      },
      "source": [
        ""
      ],
      "execution_count": 0,
      "outputs": []
    }
  ]
}