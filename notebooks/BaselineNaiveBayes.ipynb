{
  "nbformat": 4,
  "nbformat_minor": 0,
  "metadata": {
    "colab": {
      "name": "BaselineNaiveBayes.ipynb",
      "provenance": [],
      "collapsed_sections": [],
      "machine_shape": "hm"
    },
    "kernelspec": {
      "name": "python3",
      "display_name": "Python 3"
    }
  },
  "cells": [
    {
      "cell_type": "code",
      "metadata": {
        "id": "m8J6ZUNj32Sn",
        "colab_type": "code",
        "colab": {
          "base_uri": "https://localhost:8080/",
          "height": 124
        },
        "outputId": "e2f31f3c-f3b4-4453-8dfa-4f45f3aae54f"
      },
      "source": [
        "from google.colab import drive\n",
        "drive.mount(\"/content/drive\", force_remount=True)"
      ],
      "execution_count": 1,
      "outputs": [
        {
          "output_type": "stream",
          "text": [
            "Go to this URL in a browser: https://accounts.google.com/o/oauth2/auth?client_id=947318989803-6bn6qk8qdgf4n4g3pfee6491hc0brc4i.apps.googleusercontent.com&redirect_uri=urn%3Aietf%3Awg%3Aoauth%3A2.0%3Aoob&scope=email%20https%3A%2F%2Fwww.googleapis.com%2Fauth%2Fdocs.test%20https%3A%2F%2Fwww.googleapis.com%2Fauth%2Fdrive%20https%3A%2F%2Fwww.googleapis.com%2Fauth%2Fdrive.photos.readonly%20https%3A%2F%2Fwww.googleapis.com%2Fauth%2Fpeopleapi.readonly&response_type=code\n",
            "\n",
            "Enter your authorization code:\n",
            "··········\n",
            "Mounted at /content/drive\n"
          ],
          "name": "stdout"
        }
      ]
    },
    {
      "cell_type": "code",
      "metadata": {
        "id": "D3jWuYu14LLV",
        "colab_type": "code",
        "colab": {
          "base_uri": "https://localhost:8080/",
          "height": 69
        },
        "outputId": "e0db7469-e5c5-4c25-ad58-7b77711e1fec"
      },
      "source": [
        "DATASET_PATH = \"/content/drive/My Drive/ire-proj/processedData\"\n",
        "!ls \"$DATASET_PATH\""
      ],
      "execution_count": 2,
      "outputs": [
        {
          "output_type": "stream",
          "text": [
            "articles-training-byarticle.csv        articles-validation-bypublisher.csv\n",
            "articles-training-bypublisher.csv      glove.6B.300d.txt\n",
            "articles-training-bypublisher-old.csv\n"
          ],
          "name": "stdout"
        }
      ]
    },
    {
      "cell_type": "code",
      "metadata": {
        "id": "w-6hz-WY4NEJ",
        "colab_type": "code",
        "colab": {}
      },
      "source": [
        "import pandas as pd"
      ],
      "execution_count": 0,
      "outputs": []
    },
    {
      "cell_type": "code",
      "metadata": {
        "id": "LcE_ctGi4aYw",
        "colab_type": "code",
        "colab": {}
      },
      "source": [
        "df = pd.read_csv(filepath_or_buffer=DATASET_PATH + '/articles-training-bypublisher.csv',\n",
        "                 names=['article_id', 'title', 'articleContent', 'bias', 'hyperpartisan'],\n",
        "                #  nrows=5000,\n",
        "                 )"
      ],
      "execution_count": 0,
      "outputs": []
    },
    {
      "cell_type": "code",
      "metadata": {
        "id": "UxrqLooX4bgU",
        "colab_type": "code",
        "colab": {
          "base_uri": "https://localhost:8080/",
          "height": 206
        },
        "outputId": "05ab5fb9-8462-4c63-8248-ec68fb9c8da0"
      },
      "source": [
        "df.head()"
      ],
      "execution_count": 5,
      "outputs": [
        {
          "output_type": "execute_result",
          "data": {
            "text/html": [
              "<div>\n",
              "<style scoped>\n",
              "    .dataframe tbody tr th:only-of-type {\n",
              "        vertical-align: middle;\n",
              "    }\n",
              "\n",
              "    .dataframe tbody tr th {\n",
              "        vertical-align: top;\n",
              "    }\n",
              "\n",
              "    .dataframe thead th {\n",
              "        text-align: right;\n",
              "    }\n",
              "</style>\n",
              "<table border=\"1\" class=\"dataframe\">\n",
              "  <thead>\n",
              "    <tr style=\"text-align: right;\">\n",
              "      <th></th>\n",
              "      <th>article_id</th>\n",
              "      <th>title</th>\n",
              "      <th>articleContent</th>\n",
              "      <th>bias</th>\n",
              "      <th>hyperpartisan</th>\n",
              "    </tr>\n",
              "  </thead>\n",
              "  <tbody>\n",
              "    <tr>\n",
              "      <th>0</th>\n",
              "      <td>1</td>\n",
              "      <td>After DeVos Announced Plans To Reexamine Title...</td>\n",
              "      <td>When explaining her decision to reevaluate Tit...</td>\n",
              "      <td>right</td>\n",
              "      <td>True</td>\n",
              "    </tr>\n",
              "    <tr>\n",
              "      <th>1</th>\n",
              "      <td>2</td>\n",
              "      <td>University To Award Trayvon Martin With Posthu...</td>\n",
              "      <td>A Florida university will honor Trayvon Martin...</td>\n",
              "      <td>right</td>\n",
              "      <td>True</td>\n",
              "    </tr>\n",
              "    <tr>\n",
              "      <th>2</th>\n",
              "      <td>8</td>\n",
              "      <td>Texas State University suspends Greek life aft...</td>\n",
              "      <td>Nov. 15 (UPI) — Texas State University has sus...</td>\n",
              "      <td>right-center</td>\n",
              "      <td>False</td>\n",
              "    </tr>\n",
              "    <tr>\n",
              "      <th>3</th>\n",
              "      <td>12</td>\n",
              "      <td>Jewish Organization's Huge Day Of Unity On Tue...</td>\n",
              "      <td>Against the backdrop of an increasingly polari...</td>\n",
              "      <td>right</td>\n",
              "      <td>True</td>\n",
              "    </tr>\n",
              "    <tr>\n",
              "      <th>4</th>\n",
              "      <td>15</td>\n",
              "      <td>BREAKING: Trump Reaches Agreement To Keep 1,00...</td>\n",
              "      <td>President-elect Donald Trump has reached an ag...</td>\n",
              "      <td>right</td>\n",
              "      <td>True</td>\n",
              "    </tr>\n",
              "  </tbody>\n",
              "</table>\n",
              "</div>"
            ],
            "text/plain": [
              "   article_id  ... hyperpartisan\n",
              "0           1  ...          True\n",
              "1           2  ...          True\n",
              "2           8  ...         False\n",
              "3          12  ...          True\n",
              "4          15  ...          True\n",
              "\n",
              "[5 rows x 5 columns]"
            ]
          },
          "metadata": {
            "tags": []
          },
          "execution_count": 5
        }
      ]
    },
    {
      "cell_type": "code",
      "metadata": {
        "id": "YF9kzHqW4c-L",
        "colab_type": "code",
        "colab": {
          "base_uri": "https://localhost:8080/",
          "height": 34
        },
        "outputId": "3cd69e58-0cec-4666-c205-07250b6f5a3c"
      },
      "source": [
        "len(df[df.hyperpartisan==True]), len(df[df.hyperpartisan==False])"
      ],
      "execution_count": 6,
      "outputs": [
        {
          "output_type": "execute_result",
          "data": {
            "text/plain": [
              "(300000, 300000)"
            ]
          },
          "metadata": {
            "tags": []
          },
          "execution_count": 6
        }
      ]
    },
    {
      "cell_type": "code",
      "metadata": {
        "id": "P33r1J2P4sA7",
        "colab_type": "code",
        "colab": {}
      },
      "source": [
        "from sklearn.model_selection import train_test_split\n",
        "from sklearn.feature_extraction.text import TfidfVectorizer\n",
        "from sklearn.feature_extraction.stop_words import ENGLISH_STOP_WORDS"
      ],
      "execution_count": 0,
      "outputs": []
    },
    {
      "cell_type": "code",
      "metadata": {
        "id": "h3ODsDRy4uIm",
        "colab_type": "code",
        "colab": {}
      },
      "source": [
        "X = df.articleContent.values\n",
        "y = df.hyperpartisan.values\n",
        "\n",
        "tfidfVectorizer = TfidfVectorizer(stop_words=ENGLISH_STOP_WORDS, ngram_range=(1,2), max_df=0.85, min_df=0.05)\n",
        "tfidfVectorizer.fit(X)\n",
        "\n",
        "X_tfidf = tfidfVectorizer.transform(X)\n",
        "\n",
        "X_tfidf_train, X_tfidf_validate, y_train, y_validate = train_test_split(X_tfidf, y, test_size = 0.2, random_state=1)"
      ],
      "execution_count": 0,
      "outputs": []
    },
    {
      "cell_type": "markdown",
      "metadata": {
        "id": "VlrjMsc47zyW",
        "colab_type": "text"
      },
      "source": [
        "# Naive Bayes"
      ]
    },
    {
      "cell_type": "code",
      "metadata": {
        "id": "Ij1GX0FP4yXb",
        "colab_type": "code",
        "colab": {}
      },
      "source": [
        "from sklearn.naive_bayes import MultinomialNB"
      ],
      "execution_count": 0,
      "outputs": []
    },
    {
      "cell_type": "code",
      "metadata": {
        "id": "eqKo-J5S4xWU",
        "colab_type": "code",
        "colab": {}
      },
      "source": [
        "nbmodel = MultinomialNB()\n",
        "nbmodel.fit(X_tfidf_train, y_train)\n",
        "y_pred = nbmodel.predict(X_tfidf_validate)"
      ],
      "execution_count": 0,
      "outputs": []
    },
    {
      "cell_type": "code",
      "metadata": {
        "id": "aHwzX5sT7RIc",
        "colab_type": "code",
        "colab": {
          "base_uri": "https://localhost:8080/",
          "height": 52
        },
        "outputId": "296d3648-5540-4efe-c13e-209a88c9401f"
      },
      "source": [
        "from sklearn.metrics import f1_score, accuracy_score\n",
        "\n",
        "print(\"f1 score: \", f1_score(y_validate, y_pred, average=None) *100)\n",
        "print('accuracy: ', accuracy_score(y_validate, y_pred) *100)"
      ],
      "execution_count": 11,
      "outputs": [
        {
          "output_type": "stream",
          "text": [
            "f1 score:  [77.20010877 78.06644649]\n",
            "accuracy:  77.64166666666667\n"
          ],
          "name": "stdout"
        }
      ]
    },
    {
      "cell_type": "code",
      "metadata": {
        "id": "wAyNYUme7SBp",
        "colab_type": "code",
        "colab": {
          "base_uri": "https://localhost:8080/",
          "height": 300
        },
        "outputId": "8f28acbc-5ea7-4b32-96de-c23d4af56650"
      },
      "source": [
        "import seaborn as sns\n",
        "import matplotlib.pyplot as plt\n",
        "%matplotlib inline\n",
        "from sklearn.metrics import confusion_matrix\n",
        "\n",
        "ax= plt.subplot()\n",
        "cm = confusion_matrix(y_true=y_validate, y_pred=y_pred, labels=[False, True])\n",
        "sns.heatmap(cm, annot=True, ax=ax)\n",
        "ax.set_xlabel('Predicted')\n",
        "ax.set_ylabel('True') "
      ],
      "execution_count": 12,
      "outputs": [
        {
          "output_type": "execute_result",
          "data": {
            "text/plain": [
              "Text(33.0, 0.5, 'True')"
            ]
          },
          "metadata": {
            "tags": []
          },
          "execution_count": 12
        },
        {
          "output_type": "display_data",
          "data": {
            "image/png": "[encoded data removed]",
            "text/plain": [
              "<Figure size 432x288 with 2 Axes>"
            ]
          },
          "metadata": {
            "tags": []
          }
        }
      ]
    },
    {
      "cell_type": "markdown",
      "metadata": {
        "id": "kV_v2EZ78zkN",
        "colab_type": "text"
      },
      "source": [
        "# Load validation data as test set"
      ]
    },
    {
      "cell_type": "code",
      "metadata": {
        "id": "PxdBzvmJ7VC4",
        "colab_type": "code",
        "colab": {
          "base_uri": "https://localhost:8080/",
          "height": 34
        },
        "outputId": "a1d7c818-0220-4a04-866e-f24651e98c66"
      },
      "source": [
        "df_test = pd.read_csv(filepath_or_buffer=DATASET_PATH + '/articles-validation-bypublisher.csv',\n",
        "                 names=['article_id', 'title', 'articleContent', 'bias', 'hyperpartisan'])\n",
        "df_test.shape"
      ],
      "execution_count": 13,
      "outputs": [
        {
          "output_type": "execute_result",
          "data": {
            "text/plain": [
              "(150000, 5)"
            ]
          },
          "metadata": {
            "tags": []
          },
          "execution_count": 13
        }
      ]
    },
    {
      "cell_type": "code",
      "metadata": {
        "id": "Few9UWtI817N",
        "colab_type": "code",
        "colab": {
          "base_uri": "https://localhost:8080/",
          "height": 34
        },
        "outputId": "4ac3de6f-4f6c-48f2-fe23-b1c266825320"
      },
      "source": [
        "len(df_test[df_test.hyperpartisan==True]), len(df_test[df_test.hyperpartisan==False])"
      ],
      "execution_count": 14,
      "outputs": [
        {
          "output_type": "execute_result",
          "data": {
            "text/plain": [
              "(75000, 75000)"
            ]
          },
          "metadata": {
            "tags": []
          },
          "execution_count": 14
        }
      ]
    },
    {
      "cell_type": "code",
      "metadata": {
        "id": "sQjnz6Y183bg",
        "colab_type": "code",
        "colab": {}
      },
      "source": [
        "X_test = df_test.articleContent.values\n",
        "y_test = df_test.hyperpartisan.values\n",
        "\n",
        "X_test_tfidf = tfidfVectorizer.transform(X_test)\n",
        "y_test_pred = nbmodel.predict(X_test_tfidf)"
      ],
      "execution_count": 0,
      "outputs": []
    },
    {
      "cell_type": "code",
      "metadata": {
        "id": "V4h6Pd1j84YS",
        "colab_type": "code",
        "colab": {
          "base_uri": "https://localhost:8080/",
          "height": 52
        },
        "outputId": "c4320f4c-2197-480a-d835-5eaa7464d227"
      },
      "source": [
        "print(\"test f1 score: \", f1_score(y_test, y_test_pred, average=None) *100)\n",
        "print('test accuracy: ', accuracy_score(y_test, y_test_pred) *100)"
      ],
      "execution_count": 18,
      "outputs": [
        {
          "output_type": "stream",
          "text": [
            "test f1 score:  [43.2153068 63.0692383]\n",
            "test accuracy:  55.245333333333335\n"
          ],
          "name": "stdout"
        }
      ]
    },
    {
      "cell_type": "code",
      "metadata": {
        "id": "qgRqb6_u-eCA",
        "colab_type": "code",
        "colab": {
          "base_uri": "https://localhost:8080/",
          "height": 300
        },
        "outputId": "59980bc8-d963-4eb8-c446-ae32bff541c2"
      },
      "source": [
        "ax= plt.subplot()\n",
        "cm = confusion_matrix(y_true=y_test, y_pred=y_test_pred, labels=[False, True])\n",
        "sns.heatmap(cm, annot=True, ax=ax)\n",
        "ax.set_xlabel('Predicted')\n",
        "ax.set_ylabel('True')"
      ],
      "execution_count": 19,
      "outputs": [
        {
          "output_type": "execute_result",
          "data": {
            "text/plain": [
              "Text(33.0, 0.5, 'True')"
            ]
          },
          "metadata": {
            "tags": []
          },
          "execution_count": 19
        },
        {
          "output_type": "display_data",
          "data": {
            "image/png": "[encoded data removed]",
            "text/plain": [
              "<Figure size 432x288 with 2 Axes>"
            ]
          },
          "metadata": {
            "tags": []
          }
        }
      ]
    },
    {
      "cell_type": "code",
      "metadata": {
        "id": "-Kqvc58J-jOa",
        "colab_type": "code",
        "colab": {}
      },
      "source": [
        "# TODO: Grid search best params"
      ],
      "execution_count": 0,
      "outputs": []
    },
    {
      "cell_type": "code",
      "metadata": {
        "id": "MeIBcWQk_CVJ",
        "colab_type": "code",
        "colab": {}
      },
      "source": [
        "# TODO: Predict bias kind "
      ],
      "execution_count": 0,
      "outputs": []
    },
    {
      "cell_type": "code",
      "metadata": {
        "id": "Ma-w6HqDFHn5",
        "colab_type": "code",
        "colab": {}
      },
      "source": [
        ""
      ],
      "execution_count": 0,
      "outputs": []
    }
  ]
}