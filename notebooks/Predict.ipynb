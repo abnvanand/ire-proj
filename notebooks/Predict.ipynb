{
  "nbformat": 4,
  "nbformat_minor": 0,
  "metadata": {
    "colab": {
      "name": "Predict.ipynb",
      "provenance": [],
      "collapsed_sections": [],
      "machine_shape": "hm"
    },
    "kernelspec": {
      "name": "python3",
      "display_name": "Python 3"
    },
    "accelerator": "GPU"
  },
  "cells": [
    {
      "cell_type": "code",
      "metadata": {
        "id": "apoTJfS7Wa3U",
        "colab_type": "code",
        "outputId": "715f4c12-324c-4c34-a12a-2cc4bdb64a18",
        "colab": {
          "base_uri": "https://localhost:8080/",
          "height": 124
        }
      },
      "source": [
        "from google.colab import drive\n",
        "drive.mount(\"/content/drive\", force_remount=True)"
      ],
      "execution_count": 1,
      "outputs": [
        {
          "output_type": "stream",
          "text": [
            "Go to this URL in a browser: https://accounts.google.com/o/oauth2/auth?client_id=947318989803-6bn6qk8qdgf4n4g3pfee6491hc0brc4i.apps.googleusercontent.com&redirect_uri=urn%3Aietf%3Awg%3Aoauth%3A2.0%3Aoob&scope=email%20https%3A%2F%2Fwww.googleapis.com%2Fauth%2Fdocs.test%20https%3A%2F%2Fwww.googleapis.com%2Fauth%2Fdrive%20https%3A%2F%2Fwww.googleapis.com%2Fauth%2Fdrive.photos.readonly%20https%3A%2F%2Fwww.googleapis.com%2Fauth%2Fpeopleapi.readonly&response_type=code\n",
            "\n",
            "Enter your authorization code:\n",
            "··········\n",
            "Mounted at /content/drive\n"
          ],
          "name": "stdout"
        }
      ]
    },
    {
      "cell_type": "code",
      "metadata": {
        "id": "yUNKZFJBWfVC",
        "colab_type": "code",
        "outputId": "397a6fab-7b8b-4d8e-daef-eb3c0d095a79",
        "colab": {
          "base_uri": "https://localhost:8080/",
          "height": 121
        }
      },
      "source": [
        "DATASET_PATH = \"/content/drive/My Drive/ire-proj/processedData\"\n",
        "MODEL_PATH = \"/content/drive/My Drive/ire-proj/models\"\n",
        "\n",
        "!ls \"$DATASET_PATH\"\n",
        "\n",
        "print()\n",
        "\n",
        "!ls \"$MODEL_PATH\""
      ],
      "execution_count": 2,
      "outputs": [
        {
          "output_type": "stream",
          "text": [
            "articles-training-byarticle.csv        articles-validation-bypublisher.csv\n",
            "articles-training-bypublisher.csv      glove.6B.300d.txt\n",
            "articles-training-bypublisher-old.csv\n",
            "\n",
            "lstm_binary.h5\t\tpartial_lstm_multiclass.h5\n",
            "partial_lstm_binary.h5\tpartial_lstm_multitask3.h5\n"
          ],
          "name": "stdout"
        }
      ]
    },
    {
      "cell_type": "code",
      "metadata": {
        "id": "wzaCN7MLZGYQ",
        "colab_type": "code",
        "colab": {}
      },
      "source": [
        "# Path of fully trained models\n",
        "BINARY_MODEL = f\"{MODEL_PATH}/partial_lstm_binary.h5\"\n",
        "MULTICLASS_MODEL = f\"{MODEL_PATH}/partial_lstm_multiclass.h5\"\n",
        "\n",
        "MULTITASK_MODEL = f\"{MODEL_PATH}/partial_lstm_multitask3.h5\""
      ],
      "execution_count": 0,
      "outputs": []
    },
    {
      "cell_type": "code",
      "metadata": {
        "id": "y1E3dl4Aw8NK",
        "colab_type": "code",
        "outputId": "0ae0972d-4d82-41da-d06d-467e8f065f9a",
        "colab": {
          "base_uri": "https://localhost:8080/",
          "height": 81
        }
      },
      "source": [
        "import pandas as pd\n",
        "import numpy as np\n",
        "from sklearn.model_selection import train_test_split\n",
        "from sklearn.metrics import accuracy_score\n",
        "from sklearn.metrics import confusion_matrix\n",
        "\n",
        "from keras import Sequential, Model, Input\n",
        "from keras.layers import Conv1D, MaxPooling1D, AveragePooling1D, Flatten, Dense, \\\n",
        "                    GlobalAveragePooling1D, Dropout, LSTM, CuDNNLSTM, RNN, SimpleRNN, Conv2D, GlobalMaxPooling1D\n",
        "from keras import callbacks\n",
        "\n",
        "import re\n",
        "\n",
        "from keras.preprocessing.text import Tokenizer\n",
        "from keras.preprocessing.sequence import pad_sequences\n",
        "from keras.layers import Embedding\n",
        "from keras.utils import to_categorical\n",
        "from sklearn.preprocessing import LabelEncoder \n",
        "import pickle\n",
        "\n",
        "import seaborn as sns\n",
        "import matplotlib.pyplot as plt\n",
        "%matplotlib inline\n",
        "\n",
        "from sklearn.metrics import classification_report\n",
        "\n",
        "from keras.callbacks import ModelCheckpoint\n",
        "from keras.models import load_model\n",
        "from numpy.testing import assert_allclose"
      ],
      "execution_count": 4,
      "outputs": [
        {
          "output_type": "stream",
          "text": [
            "Using TensorFlow backend.\n"
          ],
          "name": "stderr"
        },
        {
          "output_type": "display_data",
          "data": {
            "text/html": [
              "<p style=\"color: red;\">\n",
              "The default version of TensorFlow in Colab will soon switch to TensorFlow 2.x.<br>\n",
              "We recommend you <a href=\"https://www.tensorflow.org/guide/migrate\" target=\"_blank\">upgrade</a> now \n",
              "or ensure your notebook will continue to use TensorFlow 1.x via the <code>%tensorflow_version 1.x</code> magic:\n",
              "<a href=\"https://colab.research.google.com/notebooks/tensorflow_version.ipynb\" target=\"_blank\">more info</a>.</p>\n"
            ],
            "text/plain": [
              "<IPython.core.display.HTML object>"
            ]
          },
          "metadata": {
            "tags": []
          }
        }
      ]
    },
    {
      "cell_type": "code",
      "metadata": {
        "id": "nXRZjhyQPwnT",
        "colab_type": "code",
        "colab": {}
      },
      "source": [
        "N_TRAINING_SAMPLES = None\n",
        "\n",
        "N_TEST_SAMPLES = N_TRAINING_SAMPLES // 2 if N_TRAINING_SAMPLES is not None else None"
      ],
      "execution_count": 0,
      "outputs": []
    },
    {
      "cell_type": "markdown",
      "metadata": {
        "id": "VMWNO_G6ZG1c",
        "colab_type": "text"
      },
      "source": [
        "# Preparing text data\n",
        "Format text samples and labels into tensors that can be fed into a neural network.\n",
        "- keras.preprocessing.text.Tokenizer\n",
        "- keras.preprocessing.sequence.pad_sequences"
      ]
    },
    {
      "cell_type": "code",
      "metadata": {
        "id": "EkzzVVf6Z-fd",
        "colab_type": "code",
        "colab": {}
      },
      "source": [
        "# Source: https://blog.keras.io/using-pre-trained-word-embeddings-in-a-keras-model.html\n",
        "\n",
        "MAX_NUM_WORDS = 40000    # dictionary size\n",
        "MAX_SEQUENCE_LENGTH = 1500  # max word length of each individual article\n",
        "EMBEDDING_DIM = 300 # dimensionality of the embedding vector (50, 100, 200, 300)\n",
        "\n",
        "TOKENIZER_DUMP_FILE='tokenizer.p'\n",
        "\n",
        "tokenizer = Tokenizer(num_words=MAX_NUM_WORDS,\n",
        "                      filters='!\"#$%&()*+,-./:;<=>?@[\\]^_`{|}~')\n",
        "\n",
        "def tokenize_trainingdata(X):\n",
        "    tokenizer.fit_on_texts(X)\n",
        "\n",
        "    sequences = tokenizer.texts_to_sequences(X)\n",
        "\n",
        "    word_index = tokenizer.word_index\n",
        "    print(f'Found {len(word_index)} unique tokens.')\n",
        "\n",
        "    X = pad_sequences(sequences, maxlen=MAX_SEQUENCE_LENGTH)\n",
        "\n",
        "    with open(TOKENIZER_DUMP_FILE, 'wb') as fp:\n",
        "        pickle.dump(tokenizer, fp)\n",
        "\n",
        "    return X, word_index\n",
        "\n",
        "def tokenize_testdata(X):\n",
        "    with open(TOKENIZER_DUMP_FILE, 'rb') as fp:\n",
        "        tokenizer=pickle.load(fp)\n",
        "\n",
        "    print(f'Found {len(tokenizer.word_index)} unique tokens.')\n",
        "\n",
        "    sequences = tokenizer.texts_to_sequences(X)\n",
        "\n",
        "    X = pad_sequences(sequences, maxlen=MAX_SEQUENCE_LENGTH)\n",
        "\n",
        "    return X"
      ],
      "execution_count": 0,
      "outputs": []
    },
    {
      "cell_type": "code",
      "metadata": {
        "id": "oYgT0kdTk4v7",
        "colab_type": "code",
        "colab": {}
      },
      "source": [
        "def reverse_to_categorical(y):\n",
        "    return np.argmax(y[:5], axis=1)"
      ],
      "execution_count": 0,
      "outputs": []
    },
    {
      "cell_type": "markdown",
      "metadata": {
        "id": "V94j5Z5YYett",
        "colab_type": "text"
      },
      "source": [
        "# Preparing the embedding layer"
      ]
    },
    {
      "cell_type": "code",
      "metadata": {
        "id": "hQcYYZNlZx3z",
        "colab_type": "code",
        "colab": {}
      },
      "source": [
        "def load_embeddings(word_index, GLOVE_FILE_PATH):\n",
        "    # Load glove word embeddings\n",
        "    embeddings_index = {}\n",
        "    f = open(GLOVE_FILE_PATH, 'r', encoding='utf8')\n",
        "    for line in f:\n",
        "        # each line starts with a word; rest of the line is the vector\n",
        "        values = line.split()\n",
        "        word = values[0]\n",
        "        coefs = np.asarray(values[1:], dtype='float32')\n",
        "        embeddings_index[word] = coefs\n",
        "    f.close()\n",
        "    print(f'Found {len(embeddings_index)} word vectors in glove file.')\n",
        "\n",
        "    # Now use embedding_index dictionary and our word_index \n",
        "    # to compute our embedding matrix\n",
        "    embedding_matrix = np.zeros((len(word_index) + 1, EMBEDDING_DIM))\n",
        "    for word, i in word_index.items():\n",
        "        embedding_vector = embeddings_index.get(word)\n",
        "        if embedding_vector is not None:\n",
        "            # words not found in embedding index will be all-zeros.\n",
        "            embedding_matrix[i] = embedding_vector\n",
        "    print(\"embedding_matrix shape:\", np.shape(embedding_matrix))\n",
        "\n",
        "    # load pre-trained word embeddings into an Embedding layer\n",
        "    # note that we set trainable = False so as to keep the embeddings fixed\n",
        "    embedding_layer = Embedding(len(word_index) + 1,\n",
        "                                EMBEDDING_DIM,\n",
        "                                weights=[embedding_matrix],\n",
        "                                input_length=MAX_SEQUENCE_LENGTH,\n",
        "                                trainable=False)\n",
        "    return embedding_layer"
      ],
      "execution_count": 0,
      "outputs": []
    },
    {
      "cell_type": "markdown",
      "metadata": {
        "id": "mbXNIWXRUvFY",
        "colab_type": "text"
      },
      "source": [
        "# Load datasets"
      ]
    },
    {
      "cell_type": "code",
      "metadata": {
        "id": "C5SNgt_R4gBr",
        "colab_type": "code",
        "outputId": "51cbb063-99dd-46e8-a104-426fcb12ac96",
        "colab": {
          "base_uri": "https://localhost:8080/",
          "height": 121
        }
      },
      "source": [
        "df = pd.read_csv(filepath_or_buffer= DATASET_PATH + '/articles-training-bypublisher.csv',\n",
        "                 names=['article_id', 'title', 'articleContent', 'bias', 'hyperpartisan'],\n",
        "                 dtype={'title':str},\n",
        "                 nrows=N_TRAINING_SAMPLES)\n",
        "\n",
        "df['title'] = df['title'].fillna(value=' ')\n",
        "df.count()"
      ],
      "execution_count": 9,
      "outputs": [
        {
          "output_type": "execute_result",
          "data": {
            "text/plain": [
              "article_id        600000\n",
              "title             600000\n",
              "articleContent    600000\n",
              "bias              600000\n",
              "hyperpartisan     600000\n",
              "dtype: int64"
            ]
          },
          "metadata": {
            "tags": []
          },
          "execution_count": 9
        }
      ]
    },
    {
      "cell_type": "code",
      "metadata": {
        "id": "YXlIpKD_FaZq",
        "colab_type": "code",
        "colab": {}
      },
      "source": [
        "def perform_cleaning(text):\n",
        "    text = text.lower().strip()\n",
        "    text = ' '.join(e for e in text.split())\n",
        "    text = re.sub('[^A-Za-z0-9]+', ' ', text)\n",
        "    return text\n",
        "\n",
        "df['title'] = df['title'].map(perform_cleaning)\n",
        "df['articleContent'] = df['articleContent'].map(perform_cleaning)"
      ],
      "execution_count": 0,
      "outputs": []
    },
    {
      "cell_type": "code",
      "metadata": {
        "id": "CFJdEBdT_dv5",
        "colab_type": "code",
        "outputId": "f18acf8c-7d4e-49cb-aed4-72745e592172",
        "colab": {
          "base_uri": "https://localhost:8080/",
          "height": 206
        }
      },
      "source": [
        "df.head()\n",
        "# df.tail(5)"
      ],
      "execution_count": 11,
      "outputs": [
        {
          "output_type": "execute_result",
          "data": {
            "text/html": [
              "<div>\n",
              "<style scoped>\n",
              "    .dataframe tbody tr th:only-of-type {\n",
              "        vertical-align: middle;\n",
              "    }\n",
              "\n",
              "    .dataframe tbody tr th {\n",
              "        vertical-align: top;\n",
              "    }\n",
              "\n",
              "    .dataframe thead th {\n",
              "        text-align: right;\n",
              "    }\n",
              "</style>\n",
              "<table border=\"1\" class=\"dataframe\">\n",
              "  <thead>\n",
              "    <tr style=\"text-align: right;\">\n",
              "      <th></th>\n",
              "      <th>article_id</th>\n",
              "      <th>title</th>\n",
              "      <th>articleContent</th>\n",
              "      <th>bias</th>\n",
              "      <th>hyperpartisan</th>\n",
              "    </tr>\n",
              "  </thead>\n",
              "  <tbody>\n",
              "    <tr>\n",
              "      <th>0</th>\n",
              "      <td>1</td>\n",
              "      <td>after devos announced plans to reexamine title...</td>\n",
              "      <td>when explaining her decision to reevaluate tit...</td>\n",
              "      <td>right</td>\n",
              "      <td>True</td>\n",
              "    </tr>\n",
              "    <tr>\n",
              "      <th>1</th>\n",
              "      <td>2</td>\n",
              "      <td>university to award trayvon martin with posthu...</td>\n",
              "      <td>a florida university will honor trayvon martin...</td>\n",
              "      <td>right</td>\n",
              "      <td>True</td>\n",
              "    </tr>\n",
              "    <tr>\n",
              "      <th>2</th>\n",
              "      <td>8</td>\n",
              "      <td>texas state university suspends greek life aft...</td>\n",
              "      <td>nov 15 upi texas state university has suspende...</td>\n",
              "      <td>right-center</td>\n",
              "      <td>False</td>\n",
              "    </tr>\n",
              "    <tr>\n",
              "      <th>3</th>\n",
              "      <td>12</td>\n",
              "      <td>jewish organization s huge day of unity on tue...</td>\n",
              "      <td>against the backdrop of an increasingly polari...</td>\n",
              "      <td>right</td>\n",
              "      <td>True</td>\n",
              "    </tr>\n",
              "    <tr>\n",
              "      <th>4</th>\n",
              "      <td>15</td>\n",
              "      <td>breaking trump reaches agreement to keep 1 000...</td>\n",
              "      <td>president elect donald trump has reached an ag...</td>\n",
              "      <td>right</td>\n",
              "      <td>True</td>\n",
              "    </tr>\n",
              "  </tbody>\n",
              "</table>\n",
              "</div>"
            ],
            "text/plain": [
              "   article_id  ... hyperpartisan\n",
              "0           1  ...          True\n",
              "1           2  ...          True\n",
              "2           8  ...         False\n",
              "3          12  ...          True\n",
              "4          15  ...          True\n",
              "\n",
              "[5 rows x 5 columns]"
            ]
          },
          "metadata": {
            "tags": []
          },
          "execution_count": 11
        }
      ]
    },
    {
      "cell_type": "code",
      "metadata": {
        "id": "0-w5jRnRPrEL",
        "colab_type": "code",
        "outputId": "e8201abb-cdc6-44c8-ffd3-53f07ea7cc12",
        "colab": {
          "base_uri": "https://localhost:8080/",
          "height": 121
        }
      },
      "source": [
        "df_test = pd.read_csv(filepath_or_buffer=DATASET_PATH + '/articles-validation-bypublisher.csv',\n",
        "                 names=['article_id', 'title', 'articleContent', 'bias', 'hyperpartisan'],\n",
        "                 nrows=N_TEST_SAMPLES\n",
        "                 )\n",
        "df_test['title'] = df_test['title'].fillna(value=' ')\n",
        "df_test.count()"
      ],
      "execution_count": 12,
      "outputs": [
        {
          "output_type": "execute_result",
          "data": {
            "text/plain": [
              "article_id        150000\n",
              "title             150000\n",
              "articleContent    150000\n",
              "bias              150000\n",
              "hyperpartisan     150000\n",
              "dtype: int64"
            ]
          },
          "metadata": {
            "tags": []
          },
          "execution_count": 12
        }
      ]
    },
    {
      "cell_type": "code",
      "metadata": {
        "id": "dD8n2FOJQPhq",
        "colab_type": "code",
        "outputId": "cd447fb1-2ca8-484d-f4b5-c5e318f2ef9f",
        "colab": {
          "base_uri": "https://localhost:8080/",
          "height": 206
        }
      },
      "source": [
        "df_test['title'] = df_test['title'].map(perform_cleaning)\n",
        "df_test['articleContent'] = df_test['articleContent'].map(perform_cleaning)\n",
        "df_test.tail(5)"
      ],
      "execution_count": 13,
      "outputs": [
        {
          "output_type": "execute_result",
          "data": {
            "text/html": [
              "<div>\n",
              "<style scoped>\n",
              "    .dataframe tbody tr th:only-of-type {\n",
              "        vertical-align: middle;\n",
              "    }\n",
              "\n",
              "    .dataframe tbody tr th {\n",
              "        vertical-align: top;\n",
              "    }\n",
              "\n",
              "    .dataframe thead th {\n",
              "        text-align: right;\n",
              "    }\n",
              "</style>\n",
              "<table border=\"1\" class=\"dataframe\">\n",
              "  <thead>\n",
              "    <tr style=\"text-align: right;\">\n",
              "      <th></th>\n",
              "      <th>article_id</th>\n",
              "      <th>title</th>\n",
              "      <th>articleContent</th>\n",
              "      <th>bias</th>\n",
              "      <th>hyperpartisan</th>\n",
              "    </tr>\n",
              "  </thead>\n",
              "  <tbody>\n",
              "    <tr>\n",
              "      <th>149995</th>\n",
              "      <td>1494825</td>\n",
              "      <td></td>\n",
              "      <td>by andrew osborn moscow reuters russia is quie...</td>\n",
              "      <td>left</td>\n",
              "      <td>True</td>\n",
              "    </tr>\n",
              "    <tr>\n",
              "      <th>149996</th>\n",
              "      <td>1494857</td>\n",
              "      <td>i now pronounce you spouse and spouse</td>\n",
              "      <td>in keeping with its reputation of pioneering s...</td>\n",
              "      <td>right</td>\n",
              "      <td>True</td>\n",
              "    </tr>\n",
              "    <tr>\n",
              "      <th>149997</th>\n",
              "      <td>1494877</td>\n",
              "      <td>it s now clear that only a democrat can stop d...</td>\n",
              "      <td>donald trump s ongoing evisceration of the rep...</td>\n",
              "      <td>left</td>\n",
              "      <td>True</td>\n",
              "    </tr>\n",
              "    <tr>\n",
              "      <th>149998</th>\n",
              "      <td>1494883</td>\n",
              "      <td>the liberal redneck my proudest moment as a de...</td>\n",
              "      <td>lr the liberal redneck here coming to you afte...</td>\n",
              "      <td>left</td>\n",
              "      <td>True</td>\n",
              "    </tr>\n",
              "    <tr>\n",
              "      <th>149999</th>\n",
              "      <td>1494893</td>\n",
              "      <td>obama s victory fourth global press roundup</td>\n",
              "      <td>from watching america com here s another delug...</td>\n",
              "      <td>least</td>\n",
              "      <td>False</td>\n",
              "    </tr>\n",
              "  </tbody>\n",
              "</table>\n",
              "</div>"
            ],
            "text/plain": [
              "        article_id  ... hyperpartisan\n",
              "149995     1494825  ...          True\n",
              "149996     1494857  ...          True\n",
              "149997     1494877  ...          True\n",
              "149998     1494883  ...          True\n",
              "149999     1494893  ...         False\n",
              "\n",
              "[5 rows x 5 columns]"
            ]
          },
          "metadata": {
            "tags": []
          },
          "execution_count": 13
        }
      ]
    },
    {
      "cell_type": "code",
      "metadata": {
        "id": "2JgTxNAt4j7s",
        "colab_type": "code",
        "outputId": "27013563-07e2-4b82-9c8c-562721f753be",
        "colab": {
          "base_uri": "https://localhost:8080/",
          "height": 121
        }
      },
      "source": [
        "print(df['hyperpartisan'].value_counts())\n",
        "print(df_test['hyperpartisan'].value_counts())"
      ],
      "execution_count": 14,
      "outputs": [
        {
          "output_type": "stream",
          "text": [
            "True     300000\n",
            "False    300000\n",
            "Name: hyperpartisan, dtype: int64\n",
            "True     75000\n",
            "False    75000\n",
            "Name: hyperpartisan, dtype: int64\n"
          ],
          "name": "stdout"
        }
      ]
    },
    {
      "cell_type": "markdown",
      "metadata": {
        "id": "Dwq0eV4tVUHQ",
        "colab_type": "text"
      },
      "source": [
        "# Binary classifier (Biased / Unbiased)"
      ]
    },
    {
      "cell_type": "markdown",
      "metadata": {
        "colab_type": "text",
        "id": "SjppIvA1bMYF"
      },
      "source": [
        "## Separate labels from features"
      ]
    },
    {
      "cell_type": "code",
      "metadata": {
        "colab_type": "code",
        "id": "3wED1DTtbMYM",
        "colab": {}
      },
      "source": [
        "X = df.articleContent.values\n",
        "y_bias = df.hyperpartisan.values\n",
        "y_bias_kind = df.bias.values\n",
        "\n",
        "X_test = df_test.articleContent.values\n",
        "y_test_bias = df_test.hyperpartisan.values\n",
        "y_test_bias_kind = df_test.bias.values\n",
        "\n",
        "NUM_CLASSES_BIAS = len(np.unique(y_bias))\n",
        "NUM_CLASSES_BIAS_KIND = len(np.unique(y_bias_kind))"
      ],
      "execution_count": 0,
      "outputs": []
    },
    {
      "cell_type": "code",
      "metadata": {
        "colab_type": "code",
        "id": "nRJiV-XXbMYY",
        "outputId": "f8e42270-7b91-4e6e-e195-f7220b9cb7f7",
        "colab": {
          "base_uri": "https://localhost:8080/",
          "height": 52
        }
      },
      "source": [
        "print(y_bias[:5])\n",
        "print(y_bias_kind[:5])"
      ],
      "execution_count": 16,
      "outputs": [
        {
          "output_type": "stream",
          "text": [
            "[ True  True False  True  True]\n",
            "['right' 'right' 'right-center' 'right' 'right']\n"
          ],
          "name": "stdout"
        }
      ]
    },
    {
      "cell_type": "markdown",
      "metadata": {
        "id": "MCALMavEaeA6",
        "colab_type": "text"
      },
      "source": [
        "## Tokenize data"
      ]
    },
    {
      "cell_type": "code",
      "metadata": {
        "id": "gSq4NaWO5UFK",
        "colab_type": "code",
        "outputId": "48cba3e6-c067-412d-cf8c-d4db03c97d22",
        "colab": {
          "base_uri": "https://localhost:8080/",
          "height": 52
        }
      },
      "source": [
        "X, word_index = tokenize_trainingdata(X)\n",
        "y_bias = to_categorical(y_bias, num_classes=NUM_CLASSES_BIAS)\n",
        "\n",
        "X_test = tokenize_testdata(X_test)\n",
        "y_test_bias = to_categorical(y_test_bias, num_classes=NUM_CLASSES_BIAS)"
      ],
      "execution_count": 17,
      "outputs": [
        {
          "output_type": "stream",
          "text": [
            "Found 700689 unique tokens.\n",
            "Found 700689 unique tokens.\n"
          ],
          "name": "stdout"
        }
      ]
    },
    {
      "cell_type": "code",
      "metadata": {
        "id": "lbuZbdofqfki",
        "colab_type": "code",
        "outputId": "1a89cf69-37df-42c8-d215-aaedd5c68321",
        "colab": {
          "base_uri": "https://localhost:8080/",
          "height": 121
        }
      },
      "source": [
        "print(y_bias[:5])\n",
        "print(reverse_to_categorical(y_bias[:5]))"
      ],
      "execution_count": 18,
      "outputs": [
        {
          "output_type": "stream",
          "text": [
            "[[0. 1.]\n",
            " [0. 1.]\n",
            " [1. 0.]\n",
            " [0. 1.]\n",
            " [0. 1.]]\n",
            "[1 1 0 1 1]\n"
          ],
          "name": "stdout"
        }
      ]
    },
    {
      "cell_type": "code",
      "metadata": {
        "id": "hGwfROWqp-0J",
        "colab_type": "code",
        "colab": {}
      },
      "source": [
        "X_train, X_validate, y_train_bias, y_validate_bias = train_test_split(X, y_bias,\n",
        "                                                            test_size=0.2,\n",
        "                                                            random_state=12)"
      ],
      "execution_count": 0,
      "outputs": []
    },
    {
      "cell_type": "markdown",
      "metadata": {
        "id": "NuMxM9AEeAlL",
        "colab_type": "text"
      },
      "source": [
        "# Predict Using LSTM Binary"
      ]
    },
    {
      "cell_type": "code",
      "metadata": {
        "id": "XOq5jMExP8AC",
        "colab_type": "code",
        "outputId": "5e927996-55aa-4dec-f34c-9493d848d9b4",
        "colab": {
          "base_uri": "https://localhost:8080/",
          "height": 627
        }
      },
      "source": [
        "model = load_model(BINARY_MODEL)"
      ],
      "execution_count": 20,
      "outputs": [
        {
          "output_type": "stream",
          "text": [
            "WARNING:tensorflow:From /usr/local/lib/python3.6/dist-packages/keras/backend/tensorflow_backend.py:541: The name tf.placeholder is deprecated. Please use tf.compat.v1.placeholder instead.\n",
            "\n",
            "WARNING:tensorflow:From /usr/local/lib/python3.6/dist-packages/keras/backend/tensorflow_backend.py:66: The name tf.get_default_graph is deprecated. Please use tf.compat.v1.get_default_graph instead.\n",
            "\n",
            "WARNING:tensorflow:From /usr/local/lib/python3.6/dist-packages/keras/backend/tensorflow_backend.py:4432: The name tf.random_uniform is deprecated. Please use tf.random.uniform instead.\n",
            "\n",
            "WARNING:tensorflow:From /usr/local/lib/python3.6/dist-packages/keras/backend/tensorflow_backend.py:148: The name tf.placeholder_with_default is deprecated. Please use tf.compat.v1.placeholder_with_default instead.\n",
            "\n",
            "WARNING:tensorflow:From /usr/local/lib/python3.6/dist-packages/keras/backend/tensorflow_backend.py:3733: calling dropout (from tensorflow.python.ops.nn_ops) with keep_prob is deprecated and will be removed in a future version.\n",
            "Instructions for updating:\n",
            "Please use `rate` instead of `keep_prob`. Rate should be set to `rate = 1 - keep_prob`.\n",
            "WARNING:tensorflow:From /usr/local/lib/python3.6/dist-packages/keras/backend/tensorflow_backend.py:190: The name tf.get_default_session is deprecated. Please use tf.compat.v1.get_default_session instead.\n",
            "\n",
            "WARNING:tensorflow:From /usr/local/lib/python3.6/dist-packages/keras/backend/tensorflow_backend.py:197: The name tf.ConfigProto is deprecated. Please use tf.compat.v1.ConfigProto instead.\n",
            "\n",
            "WARNING:tensorflow:From /usr/local/lib/python3.6/dist-packages/keras/backend/tensorflow_backend.py:203: The name tf.Session is deprecated. Please use tf.compat.v1.Session instead.\n",
            "\n",
            "WARNING:tensorflow:From /usr/local/lib/python3.6/dist-packages/keras/backend/tensorflow_backend.py:207: The name tf.global_variables is deprecated. Please use tf.compat.v1.global_variables instead.\n",
            "\n",
            "WARNING:tensorflow:From /usr/local/lib/python3.6/dist-packages/keras/backend/tensorflow_backend.py:216: The name tf.is_variable_initialized is deprecated. Please use tf.compat.v1.is_variable_initialized instead.\n",
            "\n",
            "WARNING:tensorflow:From /usr/local/lib/python3.6/dist-packages/keras/backend/tensorflow_backend.py:223: The name tf.variables_initializer is deprecated. Please use tf.compat.v1.variables_initializer instead.\n",
            "\n",
            "WARNING:tensorflow:From /usr/local/lib/python3.6/dist-packages/keras/optimizers.py:793: The name tf.train.Optimizer is deprecated. Please use tf.compat.v1.train.Optimizer instead.\n",
            "\n",
            "WARNING:tensorflow:From /usr/local/lib/python3.6/dist-packages/keras/backend/tensorflow_backend.py:3576: The name tf.log is deprecated. Please use tf.math.log instead.\n",
            "\n",
            "WARNING:tensorflow:From /usr/local/lib/python3.6/dist-packages/tensorflow_core/python/ops/math_grad.py:1424: where (from tensorflow.python.ops.array_ops) is deprecated and will be removed in a future version.\n",
            "Instructions for updating:\n",
            "Use tf.where in 2.0, which has the same broadcast rule as np.where\n",
            "WARNING:tensorflow:From /usr/local/lib/python3.6/dist-packages/keras/backend/tensorflow_backend.py:1033: The name tf.assign_add is deprecated. Please use tf.compat.v1.assign_add instead.\n",
            "\n",
            "WARNING:tensorflow:From /usr/local/lib/python3.6/dist-packages/keras/backend/tensorflow_backend.py:1020: The name tf.assign is deprecated. Please use tf.compat.v1.assign instead.\n",
            "\n"
          ],
          "name": "stdout"
        }
      ]
    },
    {
      "cell_type": "markdown",
      "metadata": {
        "id": "b3Xi9kS2XoWd",
        "colab_type": "text"
      },
      "source": [
        "## On validation set"
      ]
    },
    {
      "cell_type": "code",
      "metadata": {
        "id": "MA04B9dGUDCR",
        "colab_type": "code",
        "colab": {}
      },
      "source": [
        "y_pred_bias_validate = model.predict(X_validate)\n",
        "print(classification_report(np.argmax(y_validate_bias, axis=1),\n",
        "                            np.argmax(y_pred_bias_validate, axis=1),\n",
        "                            target_names=['unbiased','biased']))"
      ],
      "execution_count": 0,
      "outputs": []
    },
    {
      "cell_type": "markdown",
      "metadata": {
        "id": "JAU7xjq9J5JF",
        "colab_type": "text"
      },
      "source": [
        "```\n",
        "              precision    recall  f1-score   support\n",
        "\n",
        "    unbiased       0.94      0.91      0.93     59919\n",
        "      biased       0.91      0.95      0.93     60081\n",
        "\n",
        "    accuracy                           0.93    120000\n",
        "   macro avg       0.93      0.93      0.93    120000\n",
        "weighted avg       0.93      0.93      0.93    120000\n",
        "\n",
        "```"
      ]
    },
    {
      "cell_type": "code",
      "metadata": {
        "id": "9buJWF5uXxhZ",
        "colab_type": "code",
        "colab": {}
      },
      "source": [
        "ax= plt.subplot()\n",
        "cm = confusion_matrix(np.argmax(y_pred_bias_validate, axis=1),\n",
        "                      np.argmax(y_pred_bias, axis=1))\n",
        "sns.heatmap(cm, annot=True, ax=ax, fmt='g')\n",
        "ax.set_xlabel('Predicted')\n",
        "ax.set_ylabel('True')"
      ],
      "execution_count": 0,
      "outputs": []
    },
    {
      "cell_type": "markdown",
      "metadata": {
        "id": "95wb-IPQeFri",
        "colab_type": "text"
      },
      "source": [
        "## On test set"
      ]
    },
    {
      "cell_type": "code",
      "metadata": {
        "id": "lt3b-QFS9Orr",
        "colab_type": "code",
        "colab": {}
      },
      "source": [
        "y_pred_bias = model.predict(X_test)\n",
        "print(y_test_bias[:5])\n",
        "print(y_pred_bias[:5])"
      ],
      "execution_count": 0,
      "outputs": []
    },
    {
      "cell_type": "code",
      "metadata": {
        "id": "VbEEc7BFIJc5",
        "colab_type": "code",
        "colab": {}
      },
      "source": [
        "print(classification_report(np.argmax(y_test_bias, axis=1),\n",
        "                            np.argmax(y_pred_bias, axis=1),\n",
        "                            target_names=['unbiased','biased']))"
      ],
      "execution_count": 0,
      "outputs": []
    },
    {
      "cell_type": "markdown",
      "metadata": {
        "id": "_YJAOhqwJ98A",
        "colab_type": "text"
      },
      "source": [
        "```\n",
        "              precision    recall  f1-score   support\n",
        "\n",
        "    unbiased       0.65      0.31      0.42     75000\n",
        "      biased       0.55      0.84      0.66     75000\n",
        "\n",
        "    accuracy                           0.57    150000\n",
        "   macro avg       0.60      0.57      0.54    150000\n",
        "weighted avg       0.60      0.57      0.54    150000\n",
        "\n",
        "```"
      ]
    },
    {
      "cell_type": "code",
      "metadata": {
        "id": "myTsQT2H7TtA",
        "colab_type": "code",
        "colab": {}
      },
      "source": [
        "ax= plt.subplot()\n",
        "cm = confusion_matrix(np.argmax(y_test_bias, axis=1), np.argmax(y_pred_bias, axis=1))\n",
        "sns.heatmap(cm, annot=True, ax=ax, fmt='g')\n",
        "ax.set_xlabel('Predicted')\n",
        "ax.set_ylabel('True')"
      ],
      "execution_count": 0,
      "outputs": []
    },
    {
      "cell_type": "markdown",
      "metadata": {
        "id": "yGgALKAgVOOE",
        "colab_type": "text"
      },
      "source": [
        "# Predict Using LSTM multiclass (Kind of bias classifier)"
      ]
    },
    {
      "cell_type": "code",
      "metadata": {
        "id": "NhbRbvRRWKdU",
        "colab_type": "code",
        "colab": {}
      },
      "source": [
        "print(y_bias_kind[:5])\n",
        "print(y_test_bias_kind[:5])"
      ],
      "execution_count": 0,
      "outputs": []
    },
    {
      "cell_type": "markdown",
      "metadata": {
        "id": "Cc-STJ6aV-cj",
        "colab_type": "text"
      },
      "source": [
        "## Encode labels"
      ]
    },
    {
      "cell_type": "code",
      "metadata": {
        "id": "VR3trLUyg2nd",
        "colab_type": "code",
        "colab": {}
      },
      "source": [
        "labelEncoder = LabelEncoder()\n",
        "labelEncoder.fit(np.unique(y_bias_kind))\n",
        "labelEncoder.classes_"
      ],
      "execution_count": 0,
      "outputs": []
    },
    {
      "cell_type": "code",
      "metadata": {
        "id": "jmmPZ6JmhxNo",
        "colab_type": "code",
        "colab": {}
      },
      "source": [
        "y_bias_kind = labelEncoder.transform(y_bias_kind)\n",
        "y_test_bias_kind = labelEncoder.transform(y_test_bias_kind)\n",
        "\n",
        "print(y_bias_kind[:5])\n",
        "print(y_test_bias_kind[:5])"
      ],
      "execution_count": 0,
      "outputs": []
    },
    {
      "cell_type": "code",
      "metadata": {
        "id": "Azygqua6irm0",
        "colab_type": "code",
        "colab": {}
      },
      "source": [
        "# Inverse tranform labels\n",
        "labelEncoder.inverse_transform(y_bias_kind[:5])"
      ],
      "execution_count": 0,
      "outputs": []
    },
    {
      "cell_type": "code",
      "metadata": {
        "colab_type": "code",
        "id": "-590a-RCY_cP",
        "colab": {}
      },
      "source": [
        "y_bias_kind = to_categorical(y_bias_kind, num_classes=NUM_CLASSES_BIAS_KIND)\n",
        "y_test_bias_kind = to_categorical(y_test_bias_kind, num_classes=NUM_CLASSES_BIAS_KIND)"
      ],
      "execution_count": 0,
      "outputs": []
    },
    {
      "cell_type": "code",
      "metadata": {
        "id": "Rl__HQSei9pb",
        "colab_type": "code",
        "colab": {}
      },
      "source": [
        "y_bias_kind[:5]"
      ],
      "execution_count": 0,
      "outputs": []
    },
    {
      "cell_type": "code",
      "metadata": {
        "id": "B97TTyIgjPKf",
        "colab_type": "code",
        "colab": {}
      },
      "source": [
        "# TO get Reverse of to_categorical\n",
        "print(reverse_to_categorical(y_bias_kind))"
      ],
      "execution_count": 0,
      "outputs": []
    },
    {
      "cell_type": "markdown",
      "metadata": {
        "id": "QeYoqSn5oFi0",
        "colab_type": "text"
      },
      "source": [
        "## Split into train and validate sets"
      ]
    },
    {
      "cell_type": "code",
      "metadata": {
        "id": "dT7bNqdGVq4M",
        "colab_type": "code",
        "colab": {}
      },
      "source": [
        "X_train, X_validate, y_train_bias_kind, y_validate_bias_kind = train_test_split(X,\n",
        "                                                            y_bias_kind,\n",
        "                                                            test_size=0.2,\n",
        "                                                            random_state=12)"
      ],
      "execution_count": 0,
      "outputs": []
    },
    {
      "cell_type": "markdown",
      "metadata": {
        "id": "zNJYiVt4dFGZ",
        "colab_type": "text"
      },
      "source": [
        "## Load Model"
      ]
    },
    {
      "cell_type": "code",
      "metadata": {
        "id": "1iTU_XD6t5l9",
        "colab_type": "code",
        "colab": {}
      },
      "source": [
        "model = load_model(MULTICLASS_MODEL)"
      ],
      "execution_count": 0,
      "outputs": []
    },
    {
      "cell_type": "markdown",
      "metadata": {
        "colab_type": "text",
        "id": "-kQZ-T0UeXju"
      },
      "source": [
        "## On validation set"
      ]
    },
    {
      "cell_type": "code",
      "metadata": {
        "id": "Q2WnE5EFQK20",
        "colab_type": "code",
        "colab": {}
      },
      "source": [
        "y_pred_bias_kind_validate = model.predict(X_validate)\n",
        "print(classification_report(np.argmax(y_validate_bias_kind, axis=1),\n",
        "                            np.argmax(y_pred_bias_kind_validate, axis=1),\n",
        "                            target_names=labelEncoder.classes_))"
      ],
      "execution_count": 0,
      "outputs": []
    },
    {
      "cell_type": "markdown",
      "metadata": {
        "id": "cLturv3ZJi3f",
        "colab_type": "text"
      },
      "source": [
        "```\n",
        "              precision    recall  f1-score   support\n",
        "\n",
        "       least       0.98      0.96      0.97     37297\n",
        "        left       0.84      0.86      0.85     30104\n",
        " left-center       0.81      0.82      0.81     14154\n",
        "       right       0.89      0.91      0.90     29977\n",
        "right-center       0.89      0.76      0.82      8468\n",
        "\n",
        "    accuracy                           0.89    120000\n",
        "   macro avg       0.88      0.86      0.87    120000\n",
        "weighted avg       0.89      0.89      0.89    120000\n",
        "```"
      ]
    },
    {
      "cell_type": "code",
      "metadata": {
        "id": "ePWlOCpgdLwu",
        "colab_type": "code",
        "colab": {}
      },
      "source": [
        "ax= plt.subplot()\n",
        "cm = confusion_matrix(np.argmax(y_validate_bias_kind, axis=1), \n",
        "                      np.argmax(y_pred_bias_kind_validate, axis=1))\n",
        "sns.heatmap(cm, annot=True, ax=ax, fmt='g')\n",
        "ax.set_xlabel('Predicted')\n",
        "ax.set_ylabel('True') "
      ],
      "execution_count": 0,
      "outputs": []
    },
    {
      "cell_type": "markdown",
      "metadata": {
        "colab_type": "text",
        "id": "y6YBqhn3emXm"
      },
      "source": [
        "## On test set"
      ]
    },
    {
      "cell_type": "code",
      "metadata": {
        "colab_type": "code",
        "id": "sVDX7WmGemXw",
        "colab": {}
      },
      "source": [
        "y_pred_bias_kind = model.predict(X_test)"
      ],
      "execution_count": 0,
      "outputs": []
    },
    {
      "cell_type": "code",
      "metadata": {
        "id": "14Mle6kntIGw",
        "colab_type": "code",
        "colab": {}
      },
      "source": [
        "y_test_bias_kind[:5]"
      ],
      "execution_count": 0,
      "outputs": []
    },
    {
      "cell_type": "code",
      "metadata": {
        "id": "PZ5lTdZ2s_cI",
        "colab_type": "code",
        "colab": {}
      },
      "source": [
        "y_pred_bias_kind[:5]"
      ],
      "execution_count": 0,
      "outputs": []
    },
    {
      "cell_type": "code",
      "metadata": {
        "id": "I9bcaMHRy1Ba",
        "colab_type": "code",
        "colab": {}
      },
      "source": [
        "ax= plt.subplot()\n",
        "cm = confusion_matrix(np.argmax(y_test_bias_kind, axis=1), \n",
        "                      np.argmax(y_pred_bias_kind, axis=1))\n",
        "sns.heatmap(cm, annot=True, ax=ax, fmt='g')\n",
        "ax.set_xlabel('Predicted')\n",
        "ax.set_ylabel('True') "
      ],
      "execution_count": 0,
      "outputs": []
    },
    {
      "cell_type": "code",
      "metadata": {
        "id": "ttNGWcFEM4Jv",
        "colab_type": "code",
        "colab": {}
      },
      "source": [
        "print(classification_report(np.argmax(y_test_bias_kind, axis=1),\n",
        "                            np.argmax(y_pred_bias_kind, axis=1),\n",
        "                            target_names=labelEncoder.classes_))"
      ],
      "execution_count": 0,
      "outputs": []
    },
    {
      "cell_type": "markdown",
      "metadata": {
        "id": "XfSjFJ_CKQsq",
        "colab_type": "text"
      },
      "source": [
        "```\n",
        "              precision    recall  f1-score   support\n",
        "\n",
        "       least       0.23      0.04      0.07     38296\n",
        "        left       0.24      0.54      0.34     37500\n",
        " left-center       0.27      0.20      0.23     23473\n",
        "       right       0.45      0.46      0.46     37500\n",
        "right-center       0.03      0.01      0.01     13231\n",
        "\n",
        "    accuracy                           0.29    150000\n",
        "   macro avg       0.25      0.25      0.22    150000\n",
        "weighted avg       0.28      0.29      0.25    150000\n",
        "```"
      ]
    },
    {
      "cell_type": "markdown",
      "metadata": {
        "id": "z0sHfV3YVeC3",
        "colab_type": "text"
      },
      "source": [
        "# Predict using Multitask model\n",
        " - task 1: biased/unbiased (binary)\n",
        " - task 2: kind of bias (multiclass)"
      ]
    },
    {
      "cell_type": "markdown",
      "metadata": {
        "id": "kviqb1rCd861",
        "colab_type": "text"
      },
      "source": [
        "## Load model"
      ]
    },
    {
      "cell_type": "code",
      "metadata": {
        "id": "4nvfx6PovA65",
        "colab_type": "code",
        "colab": {}
      },
      "source": [
        "model = load_model(MULTITASK_MODEL)"
      ],
      "execution_count": 0,
      "outputs": []
    },
    {
      "cell_type": "markdown",
      "metadata": {
        "id": "oclVsnUQeDbC",
        "colab_type": "text"
      },
      "source": [
        "## Prediction on validation set"
      ]
    },
    {
      "cell_type": "code",
      "metadata": {
        "id": "1tzSf-GgR17O",
        "colab_type": "code",
        "colab": {}
      },
      "source": [
        "y_pred_bias_validate, y_pred_bias_kind_validate = model.predict(X_validate)\n",
        "\n",
        "print(classification_report(np.argmax(y_validate_bias, axis=1),\n",
        "                            np.argmax(y_pred_bias_validate, axis=1),\n",
        "                            target_names=['unbiased','biased']))\n",
        "\n",
        "print(classification_report(np.argmax(y_validate_bias_kind, axis=1),\n",
        "                            np.argmax(y_pred_bias_kind_validate, axis=1),\n",
        "                            target_names=labelEncoder.classes_))"
      ],
      "execution_count": 0,
      "outputs": []
    },
    {
      "cell_type": "code",
      "metadata": {
        "id": "F-Gy3w40ePfP",
        "colab_type": "code",
        "colab": {}
      },
      "source": [
        "ax= plt.subplot()\n",
        "cm = confusion_matrix(np.argmax(y_validate_bias, axis=1), \n",
        "                      np.argmax(y_pred_bias_validate, axis=1))\n",
        "sns.heatmap(cm, annot=True, ax=ax, fmt='g')\n",
        "ax.set_xlabel('Predicted')\n",
        "ax.set_ylabel('True') "
      ],
      "execution_count": 0,
      "outputs": []
    },
    {
      "cell_type": "code",
      "metadata": {
        "id": "7hoIKVg1eQP5",
        "colab_type": "code",
        "colab": {}
      },
      "source": [
        "ax= plt.subplot()\n",
        "cm = confusion_matrix(np.argmax(y_validate_bias_kind, axis=1),\n",
        "                      np.argmax(y_pred_bias_kind_validate, axis=1))\n",
        "sns.heatmap(cm, annot=True, ax=ax, fmt='g')\n",
        "ax.set_xlabel('Predicted')\n",
        "ax.set_ylabel('True') "
      ],
      "execution_count": 0,
      "outputs": []
    },
    {
      "cell_type": "markdown",
      "metadata": {
        "colab_type": "text",
        "id": "Y8S_J548e3LV"
      },
      "source": [
        "## Prediction on test set"
      ]
    },
    {
      "cell_type": "code",
      "metadata": {
        "colab_type": "code",
        "id": "HguHhvJ0e3LY",
        "colab": {}
      },
      "source": [
        "y_pred_bias, y_pred_bias_kind = model.predict(X_test)"
      ],
      "execution_count": 0,
      "outputs": []
    },
    {
      "cell_type": "code",
      "metadata": {
        "id": "bNSDi3kBSl2f",
        "colab_type": "code",
        "colab": {}
      },
      "source": [
        "print(classification_report(np.argmax(y_test_bias, axis=1),\n",
        "                            np.argmax(y_pred_bias, axis=1),\n",
        "                            target_names=['unbiased','biased']))\n",
        "\n",
        "print(classification_report(np.argmax(y_test_bias_kind, axis=1),\n",
        "                            np.argmax(y_pred_bias_kind, axis=1),\n",
        "                            target_names=labelEncoder.classes_))"
      ],
      "execution_count": 0,
      "outputs": []
    },
    {
      "cell_type": "code",
      "metadata": {
        "id": "znCed-13VmIW",
        "colab_type": "code",
        "colab": {}
      },
      "source": [
        "ax= plt.subplot()\n",
        "cm = confusion_matrix(np.argmax(y_test_bias, axis=1), np.argmax(y_pred_bias, axis=1))\n",
        "sns.heatmap(cm, annot=True, ax=ax, fmt='g')\n",
        "ax.set_xlabel('Predicted')\n",
        "ax.set_ylabel('True') "
      ],
      "execution_count": 0,
      "outputs": []
    },
    {
      "cell_type": "code",
      "metadata": {
        "id": "ciRLrqIuVZoH",
        "colab_type": "code",
        "colab": {}
      },
      "source": [
        "ax= plt.subplot()\n",
        "cm = confusion_matrix(np.argmax(y_test_bias_kind, axis=1), np.argmax(y_pred_bias_kind, axis=1))\n",
        "sns.heatmap(cm, annot=True, ax=ax, fmt='g')\n",
        "ax.set_xlabel('Predicted')\n",
        "ax.set_ylabel('True') "
      ],
      "execution_count": 0,
      "outputs": []
    }
  ]
}